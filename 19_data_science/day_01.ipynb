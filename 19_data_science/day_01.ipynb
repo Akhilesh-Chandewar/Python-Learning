{
 "cells": [
  {
   "cell_type": "markdown",
   "id": "9f28af5b",
   "metadata": {},
   "source": [
    "# Welcome to python data science day 1\n",
    "This is my first day learning python"
   ]
  },
  {
   "cell_type": "code",
   "execution_count": 1,
   "id": "87cdc173",
   "metadata": {},
   "outputs": [
    {
     "name": "stdout",
     "output_type": "stream",
     "text": [
      "Data Science day 1\n"
     ]
    }
   ],
   "source": [
    "print(\"Data Science day 1\")"
   ]
  },
  {
   "cell_type": "code",
   "execution_count": 3,
   "id": "04c83033",
   "metadata": {},
   "outputs": [
    {
     "name": "stdout",
     "output_type": "stream",
     "text": [
      "this is line 0\n",
      "this is line 1\n",
      "this is line 2\n",
      "this is line 3\n",
      "this is line 4\n"
     ]
    }
   ],
   "source": [
    "for i in range(5):\n",
    "    print(f\"this is line {i}\")"
   ]
  },
  {
   "cell_type": "code",
   "execution_count": null,
   "id": "010a56ae",
   "metadata": {},
   "outputs": [],
   "source": []
  }
 ],
 "metadata": {
  "kernelspec": {
   "display_name": "venv",
   "language": "python",
   "name": "python3"
  },
  "language_info": {
   "codemirror_mode": {
    "name": "ipython",
    "version": 3
   },
   "file_extension": ".py",
   "mimetype": "text/x-python",
   "name": "python",
   "nbconvert_exporter": "python",
   "pygments_lexer": "ipython3",
   "version": "3.10.12"
  }
 },
 "nbformat": 4,
 "nbformat_minor": 5
}
